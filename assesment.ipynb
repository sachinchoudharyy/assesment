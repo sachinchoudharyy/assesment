{
 "cells": [
  {
   "cell_type": "code",
   "execution_count": 1,
   "metadata": {},
   "outputs": [
    {
     "name": "stdout",
     "output_type": "stream",
     "text": [
      "total bill is 1290\n"
     ]
    }
   ],
   "source": [
    "# Ques 1\n",
    "pizza =100\n",
    "puff=20\n",
    "cdrink=10\n",
    "\n",
    "pi=int(input(\"enter no of pizza\"))\n",
    "pu=int(input(\"enter no of puff\"))\n",
    "cd=int(input(\"enter no of c drink\"))\n",
    "\n",
    "print(\"total bill is\",(pizza*pi)+(puff*pu)+(cdrink*cd))"
   ]
  },
  {
   "cell_type": "code",
   "execution_count": 2,
   "metadata": {},
   "outputs": [
    {
     "name": "stdout",
     "output_type": "stream",
     "text": [
      "total steps= 7\n"
     ]
    }
   ],
   "source": [
    "# Ques 2\n",
    "m=int(input(\"enter no of stairs\"))\n",
    "n=int(input(\"enter no of stairs covered in each step\"))\n",
    "\n",
    "print(\"total steps=\",(m//n)+(m%n))"
   ]
  },
  {
   "cell_type": "code",
   "execution_count": 8,
   "metadata": {},
   "outputs": [
    {
     "name": "stdout",
     "output_type": "stream",
     "text": [
      "monkey lefts= 10\n"
     ]
    }
   ],
   "source": [
    "# Ques 4\n",
    "n=int(input(\"enter total no of monkeys\"))\n",
    "k=int(input(\" Number of eatable Bananas by Single Monkey\"))\n",
    "j=int(input(\" Number of eatable Peanuts by single Monkey\"))\n",
    "m=int(input(\" Total number of Bananas\"))\n",
    "p=int(input(\" Total number of Peanuts\"))\n",
    "\n",
    "\n",
    "no_of_M_b= m//k# no of monkey which eat banana\n",
    "no_of_M_p= min( p//j,n- no_of_M_b)# no of monkey which eat peanuts\n",
    "\n",
    "m_l_t= n-(no_of_M_b + no_of_M_p)# no of monkey left\n",
    "\n",
    "print(\"monkey lefts=\" , m_l_t)"
   ]
  },
  {
   "cell_type": "code",
   "execution_count": 7,
   "metadata": {},
   "outputs": [
    {
     "name": "stdout",
     "output_type": "stream",
     "text": [
      "max is trainer 1 92.33333333333333\n",
      "max is trainer 3 92.33333333333333\n"
     ]
    }
   ],
   "source": [
    "# Ques 5\n",
    "\n",
    "tt1=0\n",
    "tt2=0\n",
    "tt3=0\n",
    "for i in range(0,3):\n",
    "\n",
    "    t1=int(input(\"enter ox of trainer1\"))\n",
    "    tt1=tt1+t1\n",
    "    t2=int(input(\"enter ox of trainer2\"))\n",
    "    tt2=tt2+t2\n",
    "    t3=int(input(\"enter ox of trainer3\"))\n",
    "    tt3=tt3+t3\n",
    "\n",
    "avgt1=tt1/3\n",
    "avgt2=tt2/3\n",
    "avgt3=tt3/3\n",
    "\n",
    "\n",
    "if avgt1>avgt2 :\n",
    "    \n",
    "        print(\"max is trainer 1\",avgt1)\n",
    "if avgt3>avgt2:\n",
    "        print(\"max is trainer 3\",avgt3)\n",
    "elif avgt2>avgt3:\n",
    " print(\"max is t2= \",avgt2)\n",
    "\n",
    "else:\n",
    "   print(\"max is t3= \",avgt3)\n"
   ]
  },
  {
   "cell_type": "code",
   "execution_count": 30,
   "metadata": {},
   "outputs": [
    {
     "name": "stdout",
     "output_type": "stream",
     "text": [
      "[4, 7]\n",
      "[1, 3, 9]\n",
      "the sum of second max no is= 7\n"
     ]
    }
   ],
   "source": [
    "# Ques 6\n",
    "i=int(input(\"enter the size of array\"))\n",
    "l=[]\n",
    "for a in range(i):\n",
    "    k=int(input(\"enter the size of array\"))\n",
    "    l.append(k)\n",
    "even=[]\n",
    "odd=[]\n",
    "for j in range(1,len(l)+1):\n",
    "    if j%2==0:\n",
    "        even.append(l[j-1])\n",
    "    else:\n",
    "        odd.append(l[j-1])\n",
    "even.sort()\n",
    "odd.sort()\n",
    "print(even)\n",
    "print(odd)\n",
    "print(\"the sum of second max no is=\",even[len(even)-2]+odd[len(odd)-2])\n"
   ]
  },
  {
   "cell_type": "code",
   "execution_count": 14,
   "metadata": {},
   "outputs": [
    {
     "name": "stdout",
     "output_type": "stream",
     "text": [
      "24 10\n"
     ]
    }
   ],
   "source": [
    "# Ques 8\n",
    "l=[23,22,24,8,9,10]\n",
    "leader=l[0]\n",
    "for i in l:\n",
    "    if leader<i:\n",
    "        leader=i\n",
    "\n",
    "print(leader,l[len(l)-1])"
   ]
  },
  {
   "cell_type": "code",
   "execution_count": 15,
   "metadata": {},
   "outputs": [
    {
     "name": "stdout",
     "output_type": "stream",
     "text": [
      "both are anagram of each\n"
     ]
    }
   ],
   "source": [
    "# Ques 9\n",
    "i=input()\n",
    "j=input()\n",
    "l1=[]\n",
    "l2=[]\n",
    "w=0 \n",
    "for t in j:\n",
    "        if t in i:\n",
    "             w=w+1\n",
    "if w==len(i):\n",
    "     print(\"both are anagram of each\")\n",
    "else:\n",
    "     print(\"not anagram\")\n"
   ]
  },
  {
   "cell_type": "code",
   "execution_count": null,
   "metadata": {},
   "outputs": [],
   "source": []
  }
 ],
 "metadata": {
  "kernelspec": {
   "display_name": "Python 3",
   "language": "python",
   "name": "python3"
  },
  "language_info": {
   "codemirror_mode": {
    "name": "ipython",
    "version": 3
   },
   "file_extension": ".py",
   "mimetype": "text/x-python",
   "name": "python",
   "nbconvert_exporter": "python",
   "pygments_lexer": "ipython3",
   "version": "3.11.4"
  }
 },
 "nbformat": 4,
 "nbformat_minor": 2
}
